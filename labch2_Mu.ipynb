{
 "cells": [
  {
   "cell_type": "code",
   "execution_count": 1,
   "id": "a3f40f6a",
   "metadata": {},
   "outputs": [],
   "source": [
    "import numpy as np"
   ]
  },
  {
   "cell_type": "markdown",
   "id": "29464e40",
   "metadata": {},
   "source": [
    "Basic Commands"
   ]
  },
  {
   "cell_type": "code",
   "execution_count": 2,
   "id": "0f287c34",
   "metadata": {},
   "outputs": [
    {
     "name": "stdout",
     "output_type": "stream",
     "text": [
      "fit a model with 11 variables\n"
     ]
    }
   ],
   "source": [
    "print('fit a model with', 11, 'variables')\n"
   ]
  },
  {
   "cell_type": "code",
   "execution_count": 3,
   "id": "57d6e74d",
   "metadata": {},
   "outputs": [],
   "source": [
    "print?\n"
   ]
  },
  {
   "cell_type": "code",
   "execution_count": 4,
   "id": "4d232d8c",
   "metadata": {},
   "outputs": [
    {
     "data": {
      "text/plain": [
       "8"
      ]
     },
     "execution_count": 4,
     "metadata": {},
     "output_type": "execute_result"
    }
   ],
   "source": [
    "3+5\n"
   ]
  },
  {
   "cell_type": "code",
   "execution_count": 5,
   "id": "d2392e59",
   "metadata": {},
   "outputs": [
    {
     "data": {
      "text/plain": [
       "'hello world'"
      ]
     },
     "execution_count": 5,
     "metadata": {},
     "output_type": "execute_result"
    }
   ],
   "source": [
    "\"hello\" + \" \" + \"world\"\n"
   ]
  },
  {
   "cell_type": "code",
   "execution_count": 6,
   "id": "1a8542e1",
   "metadata": {},
   "outputs": [
    {
     "data": {
      "text/plain": [
       "[3, 4, 5]"
      ]
     },
     "execution_count": 6,
     "metadata": {},
     "output_type": "execute_result"
    }
   ],
   "source": [
    "x = [3, 4, 5]\n",
    "x"
   ]
  },
  {
   "cell_type": "code",
   "execution_count": 7,
   "id": "03abf202",
   "metadata": {},
   "outputs": [
    {
     "data": {
      "text/plain": [
       "[3, 4, 5, 4, 9, 7]"
      ]
     },
     "execution_count": 7,
     "metadata": {},
     "output_type": "execute_result"
    }
   ],
   "source": [
    "y = [4, 9, 7]\n",
    "x + y"
   ]
  },
  {
   "cell_type": "markdown",
   "id": "7034d348",
   "metadata": {},
   "source": [
    "Introduction to Numerical Python"
   ]
  },
  {
   "cell_type": "code",
   "execution_count": 8,
   "id": "9b79e1ab",
   "metadata": {},
   "outputs": [],
   "source": [
    "x = np.array([3, 4, 5])\n",
    "y = np.array([4, 9, 7])"
   ]
  },
  {
   "cell_type": "code",
   "execution_count": 9,
   "id": "6b1ac689",
   "metadata": {},
   "outputs": [
    {
     "data": {
      "text/plain": [
       "array([ 7, 13, 12])"
      ]
     },
     "execution_count": 9,
     "metadata": {},
     "output_type": "execute_result"
    }
   ],
   "source": [
    "x+y"
   ]
  },
  {
   "cell_type": "code",
   "execution_count": 10,
   "id": "9ffde149",
   "metadata": {},
   "outputs": [
    {
     "data": {
      "text/plain": [
       "array([-0.94509381, -0.73838037, -0.09186779,  0.51991037, -0.20948794,\n",
       "        1.80760601, -0.21597593, -0.84130278, -0.54756556, -0.93641589,\n",
       "       -0.47631684, -0.14079761,  0.93698316,  0.06706111, -1.15939354,\n",
       "       -1.39570774,  1.5116327 ,  0.02148818,  0.81549209,  0.26869674,\n",
       "       -0.74825752,  1.05610144, -0.78436207,  0.30581157,  1.47381398,\n",
       "       -0.07555814, -0.4602696 ,  0.87882009,  1.03001284,  0.68176418,\n",
       "       -0.12997384, -0.4466858 ,  1.74227652, -0.34489725,  0.37469011,\n",
       "       -0.41082491,  1.37410632,  0.70966635, -0.38021668, -0.4970576 ,\n",
       "       -0.02553378,  0.22138245, -0.85188153, -0.69649615,  0.04756157,\n",
       "        1.00984673, -0.79572256,  0.67363989,  1.28240458, -1.11095797])"
      ]
     },
     "execution_count": 10,
     "metadata": {},
     "output_type": "execute_result"
    }
   ],
   "source": [
    "x = np.random.normal(size = 50)\n",
    "x"
   ]
  },
  {
   "cell_type": "code",
   "execution_count": 11,
   "id": "c9f0b48b",
   "metadata": {},
   "outputs": [
    {
     "data": {
      "text/plain": [
       "array([[1, 2],\n",
       "       [3, 4]])"
      ]
     },
     "execution_count": 11,
     "metadata": {},
     "output_type": "execute_result"
    }
   ],
   "source": [
    "x = np.array([[1, 2], [3, 4]])\n",
    "x"
   ]
  },
  {
   "cell_type": "code",
   "execution_count": 12,
   "id": "e89c408d",
   "metadata": {},
   "outputs": [
    {
     "data": {
      "text/plain": [
       "2"
      ]
     },
     "execution_count": 12,
     "metadata": {},
     "output_type": "execute_result"
    }
   ],
   "source": [
    "x.ndim"
   ]
  },
  {
   "cell_type": "code",
   "execution_count": 13,
   "id": "509a701b",
   "metadata": {},
   "outputs": [
    {
     "data": {
      "text/plain": [
       "dtype('int32')"
      ]
     },
     "execution_count": 13,
     "metadata": {},
     "output_type": "execute_result"
    }
   ],
   "source": [
    "x.dtype"
   ]
  },
  {
   "cell_type": "code",
   "execution_count": 14,
   "id": "4ecd49b1",
   "metadata": {},
   "outputs": [
    {
     "data": {
      "text/plain": [
       "dtype('float64')"
      ]
     },
     "execution_count": 14,
     "metadata": {},
     "output_type": "execute_result"
    }
   ],
   "source": [
    "np.array([[1, 2], [3.0, 4]]).dtype\n"
   ]
  },
  {
   "cell_type": "code",
   "execution_count": 15,
   "id": "dc07d850",
   "metadata": {},
   "outputs": [],
   "source": [
    "np.array?\n"
   ]
  },
  {
   "cell_type": "code",
   "execution_count": 16,
   "id": "d585a08d",
   "metadata": {},
   "outputs": [
    {
     "data": {
      "text/plain": [
       "dtype('float64')"
      ]
     },
     "execution_count": 16,
     "metadata": {},
     "output_type": "execute_result"
    }
   ],
   "source": [
    "np.array([[1, 2], [3, 4]], float).dtype\n"
   ]
  },
  {
   "cell_type": "code",
   "execution_count": 17,
   "id": "5a966e36",
   "metadata": {},
   "outputs": [
    {
     "data": {
      "text/plain": [
       "(2, 2)"
      ]
     },
     "execution_count": 17,
     "metadata": {},
     "output_type": "execute_result"
    }
   ],
   "source": [
    "x.shape\n"
   ]
  },
  {
   "cell_type": "code",
   "execution_count": 18,
   "id": "011db406",
   "metadata": {},
   "outputs": [
    {
     "data": {
      "text/plain": [
       "10"
      ]
     },
     "execution_count": 18,
     "metadata": {},
     "output_type": "execute_result"
    }
   ],
   "source": [
    "x = np.array([1, 2, 3, 4])\n",
    "x.sum()"
   ]
  },
  {
   "cell_type": "code",
   "execution_count": 19,
   "id": "2f46ec15",
   "metadata": {},
   "outputs": [
    {
     "data": {
      "text/plain": [
       "10"
      ]
     },
     "execution_count": 19,
     "metadata": {},
     "output_type": "execute_result"
    }
   ],
   "source": [
    "x = np.array([1, 2, 3, 4])\n",
    "np.sum(x)"
   ]
  },
  {
   "cell_type": "code",
   "execution_count": 20,
   "id": "2f128b7f",
   "metadata": {},
   "outputs": [
    {
     "name": "stdout",
     "output_type": "stream",
     "text": [
      "beginning x:\n",
      " [1 2 3 4 5 6]\n",
      "reshaped x:\n",
      " [[1 2 3]\n",
      " [4 5 6]]\n"
     ]
    }
   ],
   "source": [
    "x = np.array([1, 2, 3, 4, 5, 6])\n",
    "print('beginning x:\\n', x)\n",
    "x_reshape = x.reshape((2, 3))\n",
    "print('reshaped x:\\n', x_reshape)"
   ]
  },
  {
   "cell_type": "code",
   "execution_count": 21,
   "id": "99afff67",
   "metadata": {},
   "outputs": [
    {
     "data": {
      "text/plain": [
       "1"
      ]
     },
     "execution_count": 21,
     "metadata": {},
     "output_type": "execute_result"
    }
   ],
   "source": [
    "x_reshape[0, 0] "
   ]
  },
  {
   "cell_type": "code",
   "execution_count": 22,
   "id": "a974419d",
   "metadata": {},
   "outputs": [
    {
     "data": {
      "text/plain": [
       "6"
      ]
     },
     "execution_count": 22,
     "metadata": {},
     "output_type": "execute_result"
    }
   ],
   "source": [
    "x_reshape[1, 2] "
   ]
  },
  {
   "cell_type": "code",
   "execution_count": 23,
   "id": "cdc500d8",
   "metadata": {},
   "outputs": [
    {
     "name": "stdout",
     "output_type": "stream",
     "text": [
      "x before we modify x_reshape:\n",
      " [1 2 3 4 5 6]\n",
      "x_reshape before we modify x_reshape:\n",
      " [[1 2 3]\n",
      " [4 5 6]]\n",
      "x_reshape after we modify its top left element:\n",
      " [[5 2 3]\n",
      " [4 5 6]]\n",
      "x after we modify top left element of x_reshape:\n",
      " [5 2 3 4 5 6]\n"
     ]
    }
   ],
   "source": [
    "print('x before we modify x_reshape:\\n', x)\n",
    "print('x_reshape before we modify x_reshape:\\n', x_reshape)\n",
    "x_reshape[0, 0] = 5\n",
    "print('x_reshape after we modify its top left element:\\n', x_reshape)\n",
    "print('x after we modify top left element of x_reshape:\\n', x)"
   ]
  },
  {
   "cell_type": "code",
   "execution_count": 24,
   "id": "8630e0c0",
   "metadata": {},
   "outputs": [
    {
     "ename": "TypeError",
     "evalue": "'tuple' object does not support item assignment",
     "output_type": "error",
     "traceback": [
      "\u001b[1;31m---------------------------------------------------------------------------\u001b[0m",
      "\u001b[1;31mTypeError\u001b[0m                                 Traceback (most recent call last)",
      "\u001b[1;32m~\\AppData\\Local\\Temp\\ipykernel_23076\\3790029346.py\u001b[0m in \u001b[0;36m<module>\u001b[1;34m\u001b[0m\n\u001b[0;32m      1\u001b[0m \u001b[0mmy_tuple\u001b[0m \u001b[1;33m=\u001b[0m \u001b[1;33m(\u001b[0m\u001b[1;36m3\u001b[0m\u001b[1;33m,\u001b[0m \u001b[1;36m4\u001b[0m\u001b[1;33m,\u001b[0m \u001b[1;36m5\u001b[0m\u001b[1;33m)\u001b[0m\u001b[1;33m\u001b[0m\u001b[1;33m\u001b[0m\u001b[0m\n\u001b[1;32m----> 2\u001b[1;33m \u001b[0mmy_tuple\u001b[0m\u001b[1;33m[\u001b[0m\u001b[1;36m0\u001b[0m\u001b[1;33m]\u001b[0m \u001b[1;33m=\u001b[0m \u001b[1;36m2\u001b[0m\u001b[1;33m\u001b[0m\u001b[1;33m\u001b[0m\u001b[0m\n\u001b[0m",
      "\u001b[1;31mTypeError\u001b[0m: 'tuple' object does not support item assignment"
     ]
    }
   ],
   "source": [
    "my_tuple = (3, 4, 5)\n",
    "my_tuple[0] = 2"
   ]
  },
  {
   "cell_type": "code",
   "execution_count": null,
   "id": "8cf45faa",
   "metadata": {},
   "outputs": [],
   "source": [
    "x_reshape.shape, x_reshape.ndim, x_reshape.T\n"
   ]
  },
  {
   "cell_type": "code",
   "execution_count": null,
   "id": "9d1c0f51",
   "metadata": {},
   "outputs": [],
   "source": [
    "np.sqrt(x)\n"
   ]
  },
  {
   "cell_type": "code",
   "execution_count": null,
   "id": "aa6b491b",
   "metadata": {},
   "outputs": [],
   "source": [
    "x**2\n"
   ]
  },
  {
   "cell_type": "code",
   "execution_count": null,
   "id": "c9434906",
   "metadata": {},
   "outputs": [],
   "source": [
    "x**0.5\n"
   ]
  },
  {
   "cell_type": "code",
   "execution_count": null,
   "id": "bb10d982",
   "metadata": {},
   "outputs": [],
   "source": [
    "x = np.random.normal(size=50)\n",
    "x"
   ]
  },
  {
   "cell_type": "code",
   "execution_count": null,
   "id": "f896138d",
   "metadata": {},
   "outputs": [],
   "source": []
  },
  {
   "cell_type": "code",
   "execution_count": null,
   "id": "fafb25fe",
   "metadata": {},
   "outputs": [],
   "source": []
  },
  {
   "cell_type": "code",
   "execution_count": null,
   "id": "6f3c3a00",
   "metadata": {},
   "outputs": [],
   "source": [
    "y = x + np.random.normal(loc=50, scale = 1, size = 50)\n",
    "y"
   ]
  },
  {
   "cell_type": "code",
   "execution_count": null,
   "id": "ccc80031",
   "metadata": {},
   "outputs": [],
   "source": [
    "np.corrcoef(x, y)"
   ]
  },
  {
   "cell_type": "code",
   "execution_count": null,
   "id": "c8631b94",
   "metadata": {},
   "outputs": [],
   "source": [
    "print(np.random.normal(scale = 5, size = 2))"
   ]
  },
  {
   "cell_type": "code",
   "execution_count": null,
   "id": "76917c1e",
   "metadata": {},
   "outputs": [],
   "source": [
    "rng = np.random.default_rng(1234)\n",
    "print(rng.normal())\n",
    "rng2 = np.random.default_rng(1234)\n",
    "print(rng2.normal())"
   ]
  },
  {
   "cell_type": "code",
   "execution_count": null,
   "id": "264b2258",
   "metadata": {},
   "outputs": [],
   "source": [
    "rng = np.random.default_rng(4)\n",
    "y = rng.standard_normal(10)\n",
    "y.mean(), np.mean(y)"
   ]
  },
  {
   "cell_type": "code",
   "execution_count": null,
   "id": "b32acc37",
   "metadata": {},
   "outputs": [],
   "source": [
    "np.var(y), y.var(), np.mean((y - y.mean())**2)"
   ]
  },
  {
   "cell_type": "code",
   "execution_count": null,
   "id": "159f4d7c",
   "metadata": {},
   "outputs": [],
   "source": [
    "np.sqrt(np.var(y)), np.std(y)"
   ]
  },
  {
   "cell_type": "code",
   "execution_count": null,
   "id": "732aea7a",
   "metadata": {},
   "outputs": [],
   "source": [
    "x = rng.standard_normal((10,3))\n",
    "x"
   ]
  },
  {
   "cell_type": "code",
   "execution_count": null,
   "id": "cd53c99e",
   "metadata": {},
   "outputs": [],
   "source": [
    "x.mean(axis=1)"
   ]
  },
  {
   "cell_type": "code",
   "execution_count": null,
   "id": "b6c60885",
   "metadata": {},
   "outputs": [],
   "source": [
    "x.mean(0)"
   ]
  },
  {
   "cell_type": "markdown",
   "id": "056d1a8b",
   "metadata": {},
   "source": [
    "Graphics"
   ]
  },
  {
   "cell_type": "code",
   "execution_count": null,
   "id": "c2cd0ce4",
   "metadata": {},
   "outputs": [],
   "source": [
    "from matplotlib.pyplot import subplots\n",
    "fig, ax = subplots(figsize=(8,8))\n",
    "x = rng.standard_normal(100)\n",
    "y = rng.standard_normal(100)\n",
    "ax.plot(x,y)\n",
    "\n",
    "# fig, ax = subplots(figsize=(8, 8))\n",
    "# x = rng.standard_normal(100)\n",
    "# y = rng.standard_normal(100)\n",
    "# ax.plot(x, y);"
   ]
  },
  {
   "cell_type": "code",
   "execution_count": null,
   "id": "41ba3246",
   "metadata": {},
   "outputs": [],
   "source": [
    "# output = subplots(figsize=(8, 8))\n",
    "# fig = output[0]\n",
    "# ax = output[1]\n",
    "\n",
    "output = subplots(figsize=(8,8))\n",
    "fig = output[0]\n",
    "ax = output[1]"
   ]
  },
  {
   "cell_type": "code",
   "execution_count": null,
   "id": "f96cf269",
   "metadata": {},
   "outputs": [],
   "source": [
    "fig, ax = subplots(figsize=(8,8))\n",
    "ax.plot(x,y,'o')"
   ]
  },
  {
   "cell_type": "code",
   "execution_count": null,
   "id": "6b7f5a9a",
   "metadata": {},
   "outputs": [],
   "source": [
    "fig, ax = subplots(figsize=(8,8))\n",
    "ax.scatter(x,y,marker='x');"
   ]
  },
  {
   "cell_type": "code",
   "execution_count": null,
   "id": "ab75e313",
   "metadata": {},
   "outputs": [],
   "source": [
    "fig, ax = subplots(figsize=(8, 8))\n",
    "ax.scatter(x, y, marker='o')"
   ]
  },
  {
   "cell_type": "code",
   "execution_count": null,
   "id": "97a19e49",
   "metadata": {},
   "outputs": [],
   "source": [
    "fig, ax = subplots(figsize=(8,8))\n",
    "ax.scatter(x,y,marker='o')\n",
    "ax.set_xlabel(\"this is the x-axis\")\n",
    "ax.set_ylabel(\"this is the y-axis\")\n",
    "ax.set_title(\"Plot of X vs Y\");"
   ]
  },
  {
   "cell_type": "code",
   "execution_count": null,
   "id": "8944bacb",
   "metadata": {},
   "outputs": [],
   "source": [
    "fig.set_size_inches(12,3)\n",
    "fig"
   ]
  },
  {
   "cell_type": "code",
   "execution_count": null,
   "id": "78e4cf5a",
   "metadata": {},
   "outputs": [],
   "source": [
    "fig, axes = subplots(nrows=2,\n",
    "                     ncols=3,\n",
    "                     figsize=(15, 5))"
   ]
  },
  {
   "cell_type": "code",
   "execution_count": null,
   "id": "f28d33ca",
   "metadata": {},
   "outputs": [],
   "source": [
    "axes[0,1].plot(x, y, 'o')\n",
    "axes[1,2].scatter(x, y, marker='+')\n",
    "fig"
   ]
  },
  {
   "cell_type": "code",
   "execution_count": null,
   "id": "b5207199",
   "metadata": {},
   "outputs": [],
   "source": [
    "fig.savefig(\"Figure.png\", dpi=400)\n",
    "fig.savefig(\"Figure.pdf\", dpi=200);"
   ]
  },
  {
   "cell_type": "code",
   "execution_count": null,
   "id": "dec553a3",
   "metadata": {},
   "outputs": [],
   "source": [
    "axes[0,1].set_xlim([-1,1])\n",
    "fig.savefig(\"Figure_updated.jpg\")\n",
    "fig"
   ]
  },
  {
   "cell_type": "code",
   "execution_count": null,
   "id": "92043422",
   "metadata": {},
   "outputs": [],
   "source": [
    "# fig, ax = subplots(figsize=(8, 8))\n",
    "# x = np.linspace(-np.pi, np.pi, 50)\n",
    "# y = x\n",
    "# f = np.multiply.outer(np.cos(y), 1 / (1 + x**2))\n",
    "# ax.contour(x, y, f);\n",
    "\n",
    "fig, ax = subplots(figsize=(8,8))\n",
    "x = np.linspace(-np.pi, np.pi, 50)\n",
    "y = x\n",
    "f = np.multiply.outer(np.cos(y), 1/ (1 + x**2))\n",
    "ax.contour(x,y,f);"
   ]
  },
  {
   "cell_type": "code",
   "execution_count": null,
   "id": "a33f0228",
   "metadata": {},
   "outputs": [],
   "source": [
    "fig, ax = subplots(figsize=(8, 8))\n",
    "ax.contour(x, y, f, levels=45);"
   ]
  },
  {
   "cell_type": "code",
   "execution_count": null,
   "id": "acf1b6c4",
   "metadata": {},
   "outputs": [],
   "source": [
    "fig, ax = subplots(figsize=(8, 8))\n",
    "ax.imshow(f);"
   ]
  },
  {
   "cell_type": "markdown",
   "id": "7df58e34",
   "metadata": {},
   "source": [
    "**Sequences and Slice Notation**"
   ]
  },
  {
   "cell_type": "code",
   "execution_count": null,
   "id": "8a9e0bb3",
   "metadata": {},
   "outputs": [],
   "source": [
    "seq1 = np.linspace(0, 10, 11)\n",
    "seq1"
   ]
  },
  {
   "cell_type": "code",
   "execution_count": null,
   "id": "0a264e01",
   "metadata": {},
   "outputs": [],
   "source": [
    "seq2 = np.arange(0, 10)\n",
    "seq2"
   ]
  },
  {
   "cell_type": "code",
   "execution_count": null,
   "id": "348dda60",
   "metadata": {},
   "outputs": [],
   "source": [
    "\"hello world\"[3:6]"
   ]
  },
  {
   "cell_type": "code",
   "execution_count": null,
   "id": "23d19156",
   "metadata": {},
   "outputs": [],
   "source": [
    "\"hello world\"[slice(3,6)]"
   ]
  },
  {
   "cell_type": "markdown",
   "id": "bf3badb3",
   "metadata": {},
   "source": [
    "**Indexing Data**"
   ]
  },
  {
   "cell_type": "code",
   "execution_count": null,
   "id": "af6de528",
   "metadata": {},
   "outputs": [],
   "source": [
    "A = np.array(np.arange(16)).reshape((4, 4))\n",
    "A"
   ]
  },
  {
   "cell_type": "code",
   "execution_count": null,
   "id": "da01bec6",
   "metadata": {},
   "outputs": [],
   "source": [
    "A[1,2]"
   ]
  },
  {
   "cell_type": "code",
   "execution_count": null,
   "id": "6e6dc5b8",
   "metadata": {},
   "outputs": [],
   "source": [
    "A[[1,3]]"
   ]
  },
  {
   "cell_type": "code",
   "execution_count": null,
   "id": "b8995f34",
   "metadata": {},
   "outputs": [],
   "source": [
    "A[:,[0,2]]\n"
   ]
  },
  {
   "cell_type": "code",
   "execution_count": null,
   "id": "4785d4ca",
   "metadata": {},
   "outputs": [],
   "source": [
    "A[[1,3],[0,2]]\n"
   ]
  },
  {
   "cell_type": "code",
   "execution_count": null,
   "id": "36a7095b",
   "metadata": {},
   "outputs": [],
   "source": [
    "np.array([A[1,0],A[3,2]])"
   ]
  },
  {
   "cell_type": "code",
   "execution_count": null,
   "id": "9559b91b",
   "metadata": {},
   "outputs": [],
   "source": [
    "A[[1,3],[0,2,3]]\n"
   ]
  },
  {
   "cell_type": "code",
   "execution_count": null,
   "id": "3f66dbbd",
   "metadata": {},
   "outputs": [],
   "source": [
    "A[[1,3]][:,[0,2]]\n"
   ]
  },
  {
   "cell_type": "code",
   "execution_count": null,
   "id": "091c3583",
   "metadata": {},
   "outputs": [],
   "source": [
    "idx = np.ix_([1,3],[0,2,3])\n",
    "A[idx]\n"
   ]
  },
  {
   "cell_type": "code",
   "execution_count": null,
   "id": "a896a352",
   "metadata": {},
   "outputs": [],
   "source": [
    "A[1:4:2,0:3:2]\n"
   ]
  },
  {
   "cell_type": "markdown",
   "id": "529150d2",
   "metadata": {},
   "source": [
    "**Boolean Indexing**"
   ]
  },
  {
   "cell_type": "code",
   "execution_count": null,
   "id": "30cfc89e",
   "metadata": {},
   "outputs": [],
   "source": [
    "keep_rows = np.zeros(A.shape[0], bool)\n",
    "keep_rows"
   ]
  },
  {
   "cell_type": "code",
   "execution_count": null,
   "id": "9d8ce9ca",
   "metadata": {},
   "outputs": [],
   "source": [
    "keep_rows[[1,3]] = True\n",
    "keep_rows"
   ]
  },
  {
   "cell_type": "code",
   "execution_count": null,
   "id": "27531f79",
   "metadata": {},
   "outputs": [],
   "source": [
    "np.all(keep_rows == np.array([0,1,0,1]))\n"
   ]
  },
  {
   "cell_type": "code",
   "execution_count": null,
   "id": "0cf7bb82",
   "metadata": {},
   "outputs": [],
   "source": [
    "A[np.array([0,1,0,1])]"
   ]
  },
  {
   "cell_type": "code",
   "execution_count": null,
   "id": "345e4acb",
   "metadata": {},
   "outputs": [],
   "source": [
    "A[keep_rows]\n"
   ]
  },
  {
   "cell_type": "code",
   "execution_count": null,
   "id": "27b95e4d",
   "metadata": {},
   "outputs": [],
   "source": [
    "keep_cols = np.zeros(A.shape[1], bool)\n",
    "keep_cols[[0, 2, 3]] = True\n",
    "idx_bool = np.ix_(keep_rows, keep_cols)\n",
    "A[idx_bool]"
   ]
  },
  {
   "cell_type": "code",
   "execution_count": null,
   "id": "97843c29",
   "metadata": {},
   "outputs": [],
   "source": [
    "idx_mixed = np.ix_([1,3], keep_cols)\n",
    "A[idx_mixed]"
   ]
  },
  {
   "cell_type": "markdown",
   "id": "27f20c37",
   "metadata": {},
   "source": [
    "**Loading Data**"
   ]
  },
  {
   "cell_type": "code",
   "execution_count": null,
   "id": "cc71d8f4",
   "metadata": {},
   "outputs": [],
   "source": [
    "import pandas as pd\n",
    "Auto = pd.read_csv('Auto.csv')\n",
    "Auto"
   ]
  },
  {
   "cell_type": "code",
   "execution_count": null,
   "id": "7a20a71e",
   "metadata": {},
   "outputs": [],
   "source": [
    "Auto = pd.read_csv('Auto.data', delim_whitespace=True)\n"
   ]
  },
  {
   "cell_type": "code",
   "execution_count": null,
   "id": "4a7ba1af",
   "metadata": {},
   "outputs": [],
   "source": [
    "Auto['horsepower']"
   ]
  },
  {
   "cell_type": "code",
   "execution_count": null,
   "id": "49d56847",
   "metadata": {},
   "outputs": [],
   "source": [
    "np.unique(Auto['horsepower'])\n"
   ]
  },
  {
   "cell_type": "code",
   "execution_count": null,
   "id": "e81d8a2e",
   "metadata": {},
   "outputs": [],
   "source": [
    "Auto = pd.read_csv('Auto.data',\n",
    "                   na_values=['?'],\n",
    "                   delim_whitespace=True)\n",
    "Auto['horsepower'].sum()\n"
   ]
  },
  {
   "cell_type": "code",
   "execution_count": null,
   "id": "d50e143a",
   "metadata": {},
   "outputs": [],
   "source": [
    "Auto.shape\n"
   ]
  },
  {
   "cell_type": "code",
   "execution_count": null,
   "id": "cd1e868e",
   "metadata": {},
   "outputs": [],
   "source": [
    "Auto_new = Auto.dropna()\n",
    "Auto_new.shape"
   ]
  },
  {
   "cell_type": "markdown",
   "id": "25105da8",
   "metadata": {},
   "source": [
    "Basics of Selecting Rows and Colums"
   ]
  },
  {
   "cell_type": "code",
   "execution_count": null,
   "id": "537fee81",
   "metadata": {},
   "outputs": [],
   "source": [
    "Auto = Auto_new # overwrite the previous value\n",
    "Auto.columns"
   ]
  },
  {
   "cell_type": "code",
   "execution_count": null,
   "id": "c16fbb95",
   "metadata": {},
   "outputs": [],
   "source": [
    "Auto[:3]"
   ]
  },
  {
   "cell_type": "code",
   "execution_count": null,
   "id": "aaee57d9",
   "metadata": {},
   "outputs": [],
   "source": [
    "idx_80 = Auto['year'] > 80\n",
    "Auto[idx_80]\n"
   ]
  },
  {
   "cell_type": "code",
   "execution_count": null,
   "id": "d349eb1e",
   "metadata": {},
   "outputs": [],
   "source": [
    "Auto[['mpg', 'horsepower']]\n"
   ]
  },
  {
   "cell_type": "code",
   "execution_count": null,
   "id": "9a780145",
   "metadata": {},
   "outputs": [],
   "source": [
    "Auto.index\n"
   ]
  },
  {
   "cell_type": "code",
   "execution_count": null,
   "id": "3c08f0da",
   "metadata": {},
   "outputs": [],
   "source": [
    "Auto_re = Auto.set_index('name')\n",
    "Auto_re"
   ]
  },
  {
   "cell_type": "code",
   "execution_count": null,
   "id": "6b763a75",
   "metadata": {},
   "outputs": [],
   "source": [
    "Auto_re.columns"
   ]
  },
  {
   "cell_type": "code",
   "execution_count": null,
   "id": "014668aa",
   "metadata": {},
   "outputs": [],
   "source": [
    "rows = ['amc rebel sst', 'ford torino']\n",
    "Auto_re.loc[rows]"
   ]
  },
  {
   "cell_type": "code",
   "execution_count": null,
   "id": "c19d6fa7",
   "metadata": {},
   "outputs": [],
   "source": [
    "Auto_re.iloc[[3,4]]"
   ]
  },
  {
   "cell_type": "code",
   "execution_count": null,
   "id": "772250bf",
   "metadata": {},
   "outputs": [],
   "source": [
    "Auto_re.iloc[:,[0,2,3]]\n"
   ]
  },
  {
   "cell_type": "code",
   "execution_count": null,
   "id": "9224cd42",
   "metadata": {},
   "outputs": [],
   "source": [
    "Auto_re.iloc[[3,4],[0,2,3]]\n"
   ]
  },
  {
   "cell_type": "code",
   "execution_count": null,
   "id": "98959482",
   "metadata": {},
   "outputs": [],
   "source": [
    "Auto_re.loc['ford galaxie 500', ['mpg', 'origin']]\n"
   ]
  },
  {
   "cell_type": "markdown",
   "id": "a2700ce2",
   "metadata": {},
   "source": [
    "More on Selecting Rows and Columns"
   ]
  },
  {
   "cell_type": "code",
   "execution_count": null,
   "id": "aa2dbdc1",
   "metadata": {},
   "outputs": [],
   "source": [
    "idx_80 = Auto_re['year'] > 80\n",
    "Auto_re.loc[idx_80, ['weight', 'origin']]"
   ]
  },
  {
   "cell_type": "code",
   "execution_count": null,
   "id": "c29adba4",
   "metadata": {},
   "outputs": [],
   "source": [
    "Auto_re.loc[lambda df: df['year'] > 80, ['weight', 'origin']]"
   ]
  },
  {
   "cell_type": "code",
   "execution_count": null,
   "id": "ca85b211",
   "metadata": {},
   "outputs": [],
   "source": [
    "\n",
    "Auto_re.loc[lambda df: (df['year'] > 80) & (df['mpg'] > 30), ['weight', 'origin']]"
   ]
  },
  {
   "cell_type": "code",
   "execution_count": null,
   "id": "33f3295c",
   "metadata": {},
   "outputs": [],
   "source": [
    "Auto_re.loc[lambda df: (df['displacement'] < 300)\n",
    "                       & (df.index.str.contains('ford')\n",
    "                       | df.index.str.contains('datsun')),\n",
    "            ['weight', 'origin']\n",
    "           ]\n"
   ]
  },
  {
   "cell_type": "markdown",
   "id": "a6eb390f",
   "metadata": {},
   "source": [
    "**For Loops**"
   ]
  },
  {
   "cell_type": "code",
   "execution_count": null,
   "id": "7cbb69ef",
   "metadata": {},
   "outputs": [],
   "source": [
    "total = 0\n",
    "for value in [3,2,19]:\n",
    "    total += value\n",
    "print('Total is: {0}'.format(total))\n"
   ]
  },
  {
   "cell_type": "code",
   "execution_count": null,
   "id": "e2330c5e",
   "metadata": {},
   "outputs": [],
   "source": [
    "total = 0\n",
    "for value in [2,3,19]:\n",
    "    for weight in [3, 2, 1]:\n",
    "        total += value * weight\n",
    "print('Total is: {0}'.format(total))"
   ]
  },
  {
   "cell_type": "code",
   "execution_count": null,
   "id": "bae70d0f",
   "metadata": {},
   "outputs": [],
   "source": [
    "total = 0\n",
    "for value, weight in zip([2,3,19],\n",
    "                         [0.2,0.3,0.5]):\n",
    "    total += weight * value\n",
    "print('Weighted average is: {0}'.format(total))"
   ]
  },
  {
   "cell_type": "markdown",
   "id": "0d688d31",
   "metadata": {},
   "source": [
    "**String Formatting**"
   ]
  },
  {
   "cell_type": "code",
   "execution_count": null,
   "id": "33214412",
   "metadata": {},
   "outputs": [],
   "source": [
    "rng = np.random.default_rng(1)\n",
    "A = rng.standard_normal((127, 5))\n",
    "M = rng.choice([0, np.nan], p=[0.8,0.2], size=A.shape)\n",
    "A += M\n",
    "D = pd.DataFrame(A, columns=['food',\n",
    "                             'bar',\n",
    "                             'pickle',\n",
    "                             'snack',\n",
    "                             'popcorn'])\n",
    "D[:9]"
   ]
  },
  {
   "cell_type": "code",
   "execution_count": null,
   "id": "157150b2",
   "metadata": {},
   "outputs": [],
   "source": [
    "for col in D.columns:\n",
    "    template = 'Column \"{0}\" has {1:.2%} missing values'\n",
    "    print(template.format(col,\n",
    "          np.isnan(D[col]).mean()))"
   ]
  },
  {
   "cell_type": "markdown",
   "id": "03e66b54",
   "metadata": {},
   "source": [
    "Additional Graphs and Numerical Summaries"
   ]
  },
  {
   "cell_type": "code",
   "execution_count": null,
   "id": "9342dd61",
   "metadata": {},
   "outputs": [],
   "source": [
    "fig, ax = subplots(figsize=(8, 8))\n",
    "ax.plot(horsepower, mpg, 'o');"
   ]
  },
  {
   "cell_type": "code",
   "execution_count": null,
   "id": "758d31e4",
   "metadata": {},
   "outputs": [],
   "source": [
    "fig, ax = subplots(figsize=(8, 8))\n",
    "ax.plot(Auto['horsepower'], Auto['mpg'], 'o');\n"
   ]
  },
  {
   "cell_type": "code",
   "execution_count": null,
   "id": "f66a93ee",
   "metadata": {},
   "outputs": [],
   "source": [
    "ax = Auto.plot.scatter('horsepower', 'mpg')\n",
    "ax.set_title('Horsepower vs. MPG');"
   ]
  },
  {
   "cell_type": "code",
   "execution_count": null,
   "id": "c8f5a3b4",
   "metadata": {},
   "outputs": [],
   "source": [
    "fig = ax.figure\n",
    "fig.savefig('horsepower_mpg.png');"
   ]
  },
  {
   "cell_type": "code",
   "execution_count": null,
   "id": "d2489e15",
   "metadata": {},
   "outputs": [],
   "source": [
    "\n",
    "fig, axes = subplots(ncols=3, figsize=(15, 5))\n",
    "Auto.plot.scatter('horsepower', 'mpg', ax=axes[1]);"
   ]
  },
  {
   "cell_type": "code",
   "execution_count": null,
   "id": "5080c180",
   "metadata": {},
   "outputs": [],
   "source": [
    "Auto.cylinders = pd.Series(Auto.cylinders, dtype='category')\n",
    "Auto.cylinders.dtype"
   ]
  },
  {
   "cell_type": "code",
   "execution_count": null,
   "id": "a5bc47f0",
   "metadata": {},
   "outputs": [],
   "source": [
    "fig, ax = subplots(figsize=(8, 8))\n",
    "Auto.boxplot('mpg', by='cylinders', ax=ax);"
   ]
  },
  {
   "cell_type": "code",
   "execution_count": null,
   "id": "33e0c2f8",
   "metadata": {},
   "outputs": [],
   "source": [
    "fig, ax = subplots(figsize=(8, 8))\n",
    "Auto.hist('mpg', ax=ax);"
   ]
  },
  {
   "cell_type": "code",
   "execution_count": null,
   "id": "bea2d11e",
   "metadata": {},
   "outputs": [],
   "source": [
    "fig, ax = subplots(figsize=(8, 8))\n",
    "Auto.hist('mpg', color='red', bins=12, ax=ax);\n"
   ]
  },
  {
   "cell_type": "code",
   "execution_count": null,
   "id": "1295878e",
   "metadata": {},
   "outputs": [],
   "source": [
    "pd.plotting.scatter_matrix(Auto);\n"
   ]
  },
  {
   "cell_type": "code",
   "execution_count": null,
   "id": "c6a4216d",
   "metadata": {},
   "outputs": [],
   "source": [
    "pd.plotting.scatter_matrix(Auto[['mpg',\n",
    "                                 'displacement',\n",
    "                                 'weight']]);"
   ]
  },
  {
   "cell_type": "code",
   "execution_count": null,
   "id": "e97150e3",
   "metadata": {},
   "outputs": [],
   "source": [
    "Auto['mpg'].describe()"
   ]
  },
  {
   "cell_type": "code",
   "execution_count": null,
   "id": "1806c6b4",
   "metadata": {},
   "outputs": [],
   "source": [
    "Auto['cylinders'].describe()\n",
    "Auto['mpg'].describe()\n"
   ]
  },
  {
   "cell_type": "code",
   "execution_count": null,
   "id": "eb833500",
   "metadata": {},
   "outputs": [],
   "source": []
  }
 ],
 "metadata": {
  "kernelspec": {
   "display_name": "Python 3 (ipykernel)",
   "language": "python",
   "name": "python3"
  },
  "language_info": {
   "codemirror_mode": {
    "name": "ipython",
    "version": 3
   },
   "file_extension": ".py",
   "mimetype": "text/x-python",
   "name": "python",
   "nbconvert_exporter": "python",
   "pygments_lexer": "ipython3",
   "version": "3.9.13"
  }
 },
 "nbformat": 4,
 "nbformat_minor": 5
}
